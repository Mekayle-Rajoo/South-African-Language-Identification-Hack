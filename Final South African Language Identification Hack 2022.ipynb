{
 "cells": [
  {
   "cell_type": "markdown",
   "id": "d76428cb",
   "metadata": {},
   "source": [
    "# South African Language Identification Hack\n",
    "\n",
    "© Explore Data Science Academy\n",
    "\n",
    "---\n",
    "### Honour Code\n",
    "\n",
    "I, **Mekayle Rajoo**, confirm - by submitting this document - that the solutions in this notebook are a result of my own work and that I abide by the [EDSA honour code](https://drive.google.com/file/d/1QDCjGZJ8-FmJE3bZdIQNwnJyQKPhHZBn/view?usp=sharing).\n",
    "\n",
    "Non-compliance with the honour code constitutes a material breach of contract.\n",
    "\n",
    "### Predict Overview: South African Language Identification Hack\n",
    "\n",
    "South Africa is a multicultural society that is characterised by its rich linguistic diversity. Language is an indispensable tool that can be used to deepen democracy and also contribute to the social, cultural, intellectual, economic and political life of the South African society.\n",
    "\n",
    "The country is multilingual with 11 official languages, each of which is guaranteed equal status. Most South Africans are multilingual and able to speak at least two or more of the official languages.\n",
    "From South African Government.\n",
    "\n",
    "With such a multilingual population, it is only obvious that our systems and devices also communicate in multi-languages.\n",
    "\n",
    "In this challenge, you will take text which is in any of South Africa's 11 Official languages and identify which language the text is in. This is an example of NLP's Language Identification, the task of determining the natural language that a piece of text is written in."
   ]
  },
  {
   "cell_type": "markdown",
   "id": "58a7bb38",
   "metadata": {},
   "source": [
    "<a id=\"cont\"></a>\n",
    "\n",
    "## Table of Contents\n",
    "\n",
    "<a href=#one>1. Importing Packages</a>\n",
    "\n",
    "<a href=#two>2. Loading Data</a>\n",
    "\n",
    "<a href=#three>3. Exploratory Data Analysis (EDA)</a>\n",
    "\n",
    "<a href=#four>4. Data Engineering</a>\n",
    "\n",
    "<a href=#five>5. Modeling</a>\n",
    "\n",
    "<a href=#six>6. Model Performance</a>\n",
    "\n",
    "<a href=#seven>7. Model Explanations</a>\n",
    "\n",
    "<a href=#eight>8.  Predicting on Unseen Data</a>"
   ]
  },
  {
   "cell_type": "markdown",
   "id": "379ddcb5",
   "metadata": {},
   "source": [
    "<a id=\"one\"></a>\n",
    "## 1. Importing Packages\n",
    "<a href=#cont>Back to Table of Contents</a>"
   ]
  },
  {
   "cell_type": "code",
   "execution_count": 1,
   "id": "a5b2847b",
   "metadata": {},
   "outputs": [],
   "source": [
    "import numpy as np\n",
    "import pandas as pd\n",
    "import spacy\n",
    "from sklearn import preprocessing\n",
    "from sklearn.model_selection import train_test_split\n",
    "from sklearn.linear_model import LogisticRegression\n",
    "from sklearn.metrics import accuracy_score\n",
    "from sklearn.preprocessing import LabelEncoder\n",
    "from sklearn.preprocessing import MinMaxScaler\n",
    "from sklearn.metrics import roc_auc_score\n",
    "from sklearn.metrics import recall_score\n",
    "from sklearn.metrics import precision_score\n",
    "from sklearn.metrics import f1_score\n",
    "from sklearn.metrics import classification_report\n",
    "import seaborn as sns\n",
    "from sklearn.feature_extraction.text import TfidfVectorizer\n",
    "from sklearn.utils import resample\n",
    "from sklearn.tree import DecisionTreeClassifier\n",
    "from sklearn.preprocessing import StandardScaler\n",
    "from sklearn.ensemble import RandomForestClassifier, AdaBoostClassifier\n",
    "from sklearn.svm import SVC\n",
    "from sklearn.naive_bayes import MultinomialNB\n",
    "from sklearn.model_selection import GridSearchCV\n",
    "from sklearn.neighbors import KNeighborsClassifier\n",
    "from nltk.corpus import stopwords\n",
    "from sklearn.feature_selection import VarianceThreshold\n",
    "import string\n",
    "\n",
    "\n",
    "import matplotlib.style as style\n",
    "sns.set(font_scale=1.5)\n",
    "style.use('seaborn-pastel')\n",
    "style.use('seaborn-poster')\n",
    "# NLTK - Natural Language Toolkit\n",
    "import nltk\n",
    "import matplotlib.pyplot as plt\n",
    "%matplotlib inline\n",
    "import re\n",
    "\n",
    "\n",
    "# set plot style\n",
    "sns.set()\n",
    "\n",
    "from collections import Counter\n",
    "# In anaconda prompt, type 'conda install -c conda-forge wordcloud=1.8.1'\n",
    "from wordcloud import WordCloud\n",
    "# In anaconda prompt, type 'conda install -c conda-forge spacy'\n",
    "# followed by 'python -m spacy download en_core_web_sm'\n",
    "# spaCy is a library for advanced natural language processing in Python\n",
    "import spacy\n",
    "nlp = spacy.load(\"en_core_web_sm\")\n",
    "\n",
    "import warnings\n",
    "warnings.filterwarnings(\"ignore\")"
   ]
  },
  {
   "cell_type": "markdown",
   "id": "e9b2696b",
   "metadata": {},
   "source": [
    "<a id=\"two\"></a>\n",
    "## 2. Loading the Data\n",
    "<a class=\"anchor\" id=\"1.1\"></a>\n",
    "<a href=#cont>Back to Table of Contents</a>"
   ]
  },
  {
   "cell_type": "code",
   "execution_count": 2,
   "id": "6af3769b",
   "metadata": {},
   "outputs": [
    {
     "data": {
      "text/html": [
       "<div>\n",
       "<style scoped>\n",
       "    .dataframe tbody tr th:only-of-type {\n",
       "        vertical-align: middle;\n",
       "    }\n",
       "\n",
       "    .dataframe tbody tr th {\n",
       "        vertical-align: top;\n",
       "    }\n",
       "\n",
       "    .dataframe thead th {\n",
       "        text-align: right;\n",
       "    }\n",
       "</style>\n",
       "<table border=\"1\" class=\"dataframe\">\n",
       "  <thead>\n",
       "    <tr style=\"text-align: right;\">\n",
       "      <th></th>\n",
       "      <th>lang_id</th>\n",
       "      <th>text</th>\n",
       "    </tr>\n",
       "  </thead>\n",
       "  <tbody>\n",
       "    <tr>\n",
       "      <th>0</th>\n",
       "      <td>xho</td>\n",
       "      <td>umgaqo-siseko wenza amalungiselelo kumaziko ax...</td>\n",
       "    </tr>\n",
       "    <tr>\n",
       "      <th>1</th>\n",
       "      <td>xho</td>\n",
       "      <td>i-dha iya kuba nobulumko bokubeka umsebenzi na...</td>\n",
       "    </tr>\n",
       "    <tr>\n",
       "      <th>2</th>\n",
       "      <td>eng</td>\n",
       "      <td>the province of kwazulu-natal department of tr...</td>\n",
       "    </tr>\n",
       "    <tr>\n",
       "      <th>3</th>\n",
       "      <td>nso</td>\n",
       "      <td>o netefatša gore o ba file dilo ka moka tše le...</td>\n",
       "    </tr>\n",
       "    <tr>\n",
       "      <th>4</th>\n",
       "      <td>ven</td>\n",
       "      <td>khomishini ya ndinganyiso ya mbeu yo ewa maana...</td>\n",
       "    </tr>\n",
       "    <tr>\n",
       "      <th>5</th>\n",
       "      <td>nso</td>\n",
       "      <td>dinyakišišo tše tša go dirwa gabedi ka ngwaga ...</td>\n",
       "    </tr>\n",
       "    <tr>\n",
       "      <th>6</th>\n",
       "      <td>tsn</td>\n",
       "      <td>kgetse nngwe le nngwe e e sa faposiwang mo tsh...</td>\n",
       "    </tr>\n",
       "    <tr>\n",
       "      <th>7</th>\n",
       "      <td>ven</td>\n",
       "      <td>mbadelo dze dza laelwa dzi do kwama mahatulele...</td>\n",
       "    </tr>\n",
       "    <tr>\n",
       "      <th>8</th>\n",
       "      <td>nso</td>\n",
       "      <td>maloko a dikhuduthamaga a ikarabela mongwe le ...</td>\n",
       "    </tr>\n",
       "    <tr>\n",
       "      <th>9</th>\n",
       "      <td>tsn</td>\n",
       "      <td>fa le dirisiwa lebone le tshwanetse go bontsha...</td>\n",
       "    </tr>\n",
       "  </tbody>\n",
       "</table>\n",
       "</div>"
      ],
      "text/plain": [
       "  lang_id                                               text\n",
       "0     xho  umgaqo-siseko wenza amalungiselelo kumaziko ax...\n",
       "1     xho  i-dha iya kuba nobulumko bokubeka umsebenzi na...\n",
       "2     eng  the province of kwazulu-natal department of tr...\n",
       "3     nso  o netefatša gore o ba file dilo ka moka tše le...\n",
       "4     ven  khomishini ya ndinganyiso ya mbeu yo ewa maana...\n",
       "5     nso  dinyakišišo tše tša go dirwa gabedi ka ngwaga ...\n",
       "6     tsn  kgetse nngwe le nngwe e e sa faposiwang mo tsh...\n",
       "7     ven  mbadelo dze dza laelwa dzi do kwama mahatulele...\n",
       "8     nso  maloko a dikhuduthamaga a ikarabela mongwe le ...\n",
       "9     tsn  fa le dirisiwa lebone le tshwanetse go bontsha..."
      ]
     },
     "execution_count": 2,
     "metadata": {},
     "output_type": "execute_result"
    }
   ],
   "source": [
    "df = pd.read_csv(\"train_set.csv\")\n",
    "df.head(10)"
   ]
  },
  {
   "cell_type": "markdown",
   "id": "943f4a11",
   "metadata": {},
   "source": [
    "<a id=\"three\"></a>\n",
    "## 3. Exploratory Data Analysis (EDA)\n",
    "<a class=\"anchor\" id=\"1.1\"></a>\n",
    "<a href=#cont>Back to Table of Contents</a>"
   ]
  },
  {
   "cell_type": "code",
   "execution_count": 3,
   "id": "08683512",
   "metadata": {},
   "outputs": [
    {
     "data": {
      "text/html": [
       "<div>\n",
       "<style scoped>\n",
       "    .dataframe tbody tr th:only-of-type {\n",
       "        vertical-align: middle;\n",
       "    }\n",
       "\n",
       "    .dataframe tbody tr th {\n",
       "        vertical-align: top;\n",
       "    }\n",
       "\n",
       "    .dataframe thead th {\n",
       "        text-align: right;\n",
       "    }\n",
       "</style>\n",
       "<table border=\"1\" class=\"dataframe\">\n",
       "  <thead>\n",
       "    <tr style=\"text-align: right;\">\n",
       "      <th></th>\n",
       "      <th>lang_id</th>\n",
       "      <th>text</th>\n",
       "    </tr>\n",
       "  </thead>\n",
       "  <tbody>\n",
       "    <tr>\n",
       "      <th>32995</th>\n",
       "      <td>tsn</td>\n",
       "      <td>popo ya dipolateforomo tse ke go tlisa boetele...</td>\n",
       "    </tr>\n",
       "    <tr>\n",
       "      <th>32996</th>\n",
       "      <td>sot</td>\n",
       "      <td>modise mosadi na o ntse o sa utlwe hore thaban...</td>\n",
       "    </tr>\n",
       "    <tr>\n",
       "      <th>32997</th>\n",
       "      <td>eng</td>\n",
       "      <td>closing date for the submission of completed t...</td>\n",
       "    </tr>\n",
       "    <tr>\n",
       "      <th>32998</th>\n",
       "      <td>xho</td>\n",
       "      <td>nawuphina umntu ofunyenwe enetyala phantsi kwa...</td>\n",
       "    </tr>\n",
       "    <tr>\n",
       "      <th>32999</th>\n",
       "      <td>sot</td>\n",
       "      <td>mafapha a mang le ona a lokela ho etsa ditlale...</td>\n",
       "    </tr>\n",
       "  </tbody>\n",
       "</table>\n",
       "</div>"
      ],
      "text/plain": [
       "      lang_id                                               text\n",
       "32995     tsn  popo ya dipolateforomo tse ke go tlisa boetele...\n",
       "32996     sot  modise mosadi na o ntse o sa utlwe hore thaban...\n",
       "32997     eng  closing date for the submission of completed t...\n",
       "32998     xho  nawuphina umntu ofunyenwe enetyala phantsi kwa...\n",
       "32999     sot  mafapha a mang le ona a lokela ho etsa ditlale..."
      ]
     },
     "execution_count": 3,
     "metadata": {},
     "output_type": "execute_result"
    }
   ],
   "source": [
    "df.tail()"
   ]
  },
  {
   "cell_type": "markdown",
   "id": "59611bbe",
   "metadata": {},
   "source": [
    "The dimentionality of our data:"
   ]
  },
  {
   "cell_type": "code",
   "execution_count": 4,
   "id": "dea4fd08",
   "metadata": {},
   "outputs": [
    {
     "data": {
      "text/plain": [
       "(33000, 2)"
      ]
     },
     "execution_count": 4,
     "metadata": {},
     "output_type": "execute_result"
    }
   ],
   "source": [
    "df.shape"
   ]
  },
  {
   "cell_type": "markdown",
   "id": "a8b89846",
   "metadata": {},
   "source": [
    "Overview of the index dtype and columns, non-null values and memory usage:"
   ]
  },
  {
   "cell_type": "code",
   "execution_count": 5,
   "id": "aaf23535",
   "metadata": {},
   "outputs": [
    {
     "name": "stdout",
     "output_type": "stream",
     "text": [
      "<class 'pandas.core.frame.DataFrame'>\n",
      "RangeIndex: 33000 entries, 0 to 32999\n",
      "Data columns (total 2 columns):\n",
      " #   Column   Non-Null Count  Dtype \n",
      "---  ------   --------------  ----- \n",
      " 0   lang_id  33000 non-null  object\n",
      " 1   text     33000 non-null  object\n",
      "dtypes: object(2)\n",
      "memory usage: 515.8+ KB\n"
     ]
    }
   ],
   "source": [
    "df.info()"
   ]
  },
  {
   "cell_type": "markdown",
   "id": "98e09563",
   "metadata": {},
   "source": [
    "To confirm there is no missing data: "
   ]
  },
  {
   "cell_type": "code",
   "execution_count": 6,
   "id": "6306ffb0",
   "metadata": {},
   "outputs": [
    {
     "data": {
      "text/plain": [
       "lang_id    0\n",
       "text       0\n",
       "dtype: int64"
      ]
     },
     "execution_count": 6,
     "metadata": {},
     "output_type": "execute_result"
    }
   ],
   "source": [
    "df.isnull().sum()"
   ]
  },
  {
   "cell_type": "markdown",
   "id": "c0db557f",
   "metadata": {},
   "source": [
    "Lets confirm that all 11 official languages are present:"
   ]
  },
  {
   "cell_type": "code",
   "execution_count": 7,
   "id": "76d7c113",
   "metadata": {},
   "outputs": [
    {
     "name": "stdout",
     "output_type": "stream",
     "text": [
      "['xho', 'eng', 'nso', 'ven', 'tsn', 'nbl', 'zul', 'ssw', 'tso', 'sot', 'afr'] \n",
      "\n",
      " 11 languages\n"
     ]
    }
   ],
   "source": [
    "lang_type = list(df.lang_id.unique())\n",
    "print(lang_type,\"\\n\\n\", len(lang_type), \"languages\")"
   ]
  },
  {
   "cell_type": "code",
   "execution_count": 8,
   "id": "b78da888",
   "metadata": {},
   "outputs": [
    {
     "data": {
      "image/png": "[encoded data removed]",
      "text/plain": [
       "<Figure size 432x288 with 1 Axes>"
      ]
     },
     "metadata": {},
     "output_type": "display_data"
    }
   ],
   "source": [
    "style.use('seaborn-bright')\n",
    "\n",
    "sns.countplot(df[\"lang_id\"], order = df[\"lang_id\"].value_counts().index)\n",
    "\n",
    "\n",
    "plt.show()"
   ]
  },
  {
   "cell_type": "code",
   "execution_count": 9,
   "id": "03bebcd6",
   "metadata": {},
   "outputs": [
    {
     "data": {
      "text/plain": [
       "xho    3000\n",
       "eng    3000\n",
       "nso    3000\n",
       "ven    3000\n",
       "tsn    3000\n",
       "nbl    3000\n",
       "zul    3000\n",
       "ssw    3000\n",
       "tso    3000\n",
       "sot    3000\n",
       "afr    3000\n",
       "Name: lang_id, dtype: int64"
      ]
     },
     "execution_count": 9,
     "metadata": {},
     "output_type": "execute_result"
    }
   ],
   "source": [
    "df[\"lang_id\"].value_counts()"
   ]
  },
  {
   "cell_type": "markdown",
   "id": "1d54a1c4",
   "metadata": {},
   "source": [
    "We can clearly see that our data is perfecly balanced, as all things should be. "
   ]
  },
  {
   "cell_type": "markdown",
   "id": "94ae2f44",
   "metadata": {},
   "source": [
    "<a id=\"four\"></a>\n",
    "## 4. Data Engineering\n",
    "<a class=\"anchor\" id=\"1.1\"></a>\n",
    "<a href=#cont>Back to Table of Contents</a>"
   ]
  },
  {
   "cell_type": "markdown",
   "id": "dad66269",
   "metadata": {},
   "source": [
    "1)  First, we convert all text to lowercase, making our data more consistent and ensuring our model doesn't differentiate between identical words such as \"Computer\" and \"computer\". "
   ]
  },
  {
   "cell_type": "code",
   "execution_count": 10,
   "id": "881e2bf9",
   "metadata": {},
   "outputs": [],
   "source": [
    "df['text'] = df['text'].str.lower()"
   ]
  },
  {
   "cell_type": "markdown",
   "id": "b00f1ce8",
   "metadata": {},
   "source": [
    "2) Punctuation removal will help us to treat each text value equally. For example, the word \"data\" and \"data!\" are treated equally after the process of removal of punctuations. Also punctuation such as $%&'()*+,-./:;<=>?@[\\]^_`{|}~ will not be valuable when trying to predict a language as they are common to all 11 languages. "
   ]
  },
  {
   "cell_type": "code",
   "execution_count": 11,
   "id": "64e39e4b",
   "metadata": {},
   "outputs": [],
   "source": [
    "def remove_punctuation(message):\n",
    "    return ''.join([l for l in message if l not in string.punctuation])"
   ]
  },
  {
   "cell_type": "code",
   "execution_count": 12,
   "id": "1b9ea062",
   "metadata": {},
   "outputs": [],
   "source": [
    "df[\"text\"] = df[\"text\"].apply(remove_punctuation)"
   ]
  },
  {
   "cell_type": "markdown",
   "id": "fb0c719f",
   "metadata": {},
   "source": [
    "3) Upon viewing the data in the text column we notice that there are some characters which, in terms of language, do not make sense. We therefore remove these"
   ]
  },
  {
   "cell_type": "code",
   "execution_count": 13,
   "id": "edaef0b0",
   "metadata": {},
   "outputs": [],
   "source": [
    "non = list({'\\x81','\\x82','\\x83','\\x84','\\x88','\\x8f','\\x90','\\x92','\\x9f','¢','£','¥','¦','©','¬','¯','°','±','²','³','´','·',\n",
    "       '¸','¹','º','¼','½','¿','à','ƒ','˜','—','‚','†','€','™','●'})"
   ]
  },
  {
   "cell_type": "code",
   "execution_count": 14,
   "id": "6029e250",
   "metadata": {},
   "outputs": [],
   "source": [
    "def remover(string):  #splits the string into a list and searches for words that contain these characters and removes them. \n",
    "    split = string.split(\" \")  \n",
    "    for word in split:\n",
    "        for letter in word:\n",
    "            if letter in non:\n",
    "                string = string.replace(word,\"\")\n",
    "                \n",
    "    \n",
    "    return string.strip()\n"
   ]
  },
  {
   "cell_type": "code",
   "execution_count": 15,
   "id": "0520617d",
   "metadata": {},
   "outputs": [],
   "source": [
    "df[\"text\"] = df[\"text\"].apply(remover)"
   ]
  },
  {
   "cell_type": "markdown",
   "id": "d1f01e70",
   "metadata": {},
   "source": [
    "<a id=\"five\"></a>\n",
    "## 5. Modelling\n",
    "<a class=\"anchor\" id=\"1.1\"></a>\n",
    "<a href=#cont>Back to Table of Contents</a>"
   ]
  },
  {
   "cell_type": "markdown",
   "id": "8eba006e",
   "metadata": {},
   "source": [
    "First we separate our data into the feature and labels:"
   ]
  },
  {
   "cell_type": "code",
   "execution_count": 16,
   "id": "e18cc868",
   "metadata": {},
   "outputs": [],
   "source": [
    "x = df[\"text\"]\n",
    "y = df[\"lang_id\"]"
   ]
  },
  {
   "cell_type": "markdown",
   "id": "4158f408",
   "metadata": {},
   "source": [
    "Next we Vectorize our data, i.e., transform sentences into arrays of numbers. We opt for the TfidfVectorizer() over CountVectorizer() due to it not only focusing on the frequency of words present in the corpus but also providing the importance of the words. We can then remove the words that are less important for analysis, hence making the model building less complex by reducing the input dimensions."
   ]
  },
  {
   "cell_type": "code",
   "execution_count": 17,
   "id": "2f7fe86b",
   "metadata": {},
   "outputs": [],
   "source": [
    "tv = TfidfVectorizer(min_df = 2, max_df = 0.5)\n",
    "# the min_df parameter ensures that we do not consider words that occur only once and the max_df parameter removes words that\n",
    "# appear in more than 50% of our data. \n",
    "xtv = tv.fit_transform(x) "
   ]
  },
  {
   "cell_type": "markdown",
   "id": "37d9be78",
   "metadata": {},
   "source": [
    "We then create our train-test split, define the models we want to create and then train these models. "
   ]
  },
  {
   "cell_type": "code",
   "execution_count": 18,
   "id": "7bd7e3fb",
   "metadata": {},
   "outputs": [],
   "source": [
    "X_train, X_test, y_train, y_test = train_test_split(xtv, y, test_size=0.2, random_state=42)"
   ]
  },
  {
   "cell_type": "markdown",
   "id": "8397535a",
   "metadata": {},
   "source": [
    "Logistic Regression:"
   ]
  },
  {
   "cell_type": "code",
   "execution_count": 19,
   "id": "37b70ec1",
   "metadata": {},
   "outputs": [
    {
     "data": {
      "text/plain": [
       "LogisticRegression()"
      ]
     },
     "execution_count": 19,
     "metadata": {},
     "output_type": "execute_result"
    }
   ],
   "source": [
    "lm = LogisticRegression()\n",
    "lm.fit(X_train, y_train)"
   ]
  },
  {
   "cell_type": "markdown",
   "id": "4681770c",
   "metadata": {},
   "source": [
    "Linear Support Vector Classifier:"
   ]
  },
  {
   "cell_type": "code",
   "execution_count": 20,
   "id": "2c1a8624",
   "metadata": {},
   "outputs": [
    {
     "data": {
      "text/plain": [
       "SVC(kernel='linear')"
      ]
     },
     "execution_count": 20,
     "metadata": {},
     "output_type": "execute_result"
    }
   ],
   "source": [
    "svc = SVC(kernel = \"linear\")\n",
    "svc.fit(X_train, y_train)"
   ]
  },
  {
   "cell_type": "markdown",
   "id": "12d1b445",
   "metadata": {},
   "source": [
    "K-nearest neighbours:"
   ]
  },
  {
   "cell_type": "code",
   "execution_count": 21,
   "id": "703b0945",
   "metadata": {},
   "outputs": [
    {
     "data": {
      "text/plain": [
       "KNeighborsClassifier(n_neighbors=8)"
      ]
     },
     "execution_count": 21,
     "metadata": {},
     "output_type": "execute_result"
    }
   ],
   "source": [
    "n_neighbors = 8\n",
    "\n",
    "knn = KNeighborsClassifier(n_neighbors)\n",
    "\n",
    "knn.fit(X_train, y_train)"
   ]
  },
  {
   "cell_type": "markdown",
   "id": "d3ec802e",
   "metadata": {},
   "source": [
    "Multinomial Naive Bayes Classifier:"
   ]
  },
  {
   "cell_type": "code",
   "execution_count": 22,
   "id": "51bb42ee",
   "metadata": {},
   "outputs": [
    {
     "data": {
      "text/plain": [
       "MultinomialNB(alpha=5)"
      ]
     },
     "execution_count": 22,
     "metadata": {},
     "output_type": "execute_result"
    }
   ],
   "source": [
    "mnbc = MultinomialNB(alpha=5)\n",
    "mnbc.fit(X_train, y_train)"
   ]
  },
  {
   "cell_type": "markdown",
   "id": "30aeea93",
   "metadata": {},
   "source": [
    "Decision Tree:"
   ]
  },
  {
   "cell_type": "code",
   "execution_count": 23,
   "id": "f7d89cb3",
   "metadata": {},
   "outputs": [
    {
     "data": {
      "text/plain": [
       "DecisionTreeClassifier(max_depth=25)"
      ]
     },
     "execution_count": 23,
     "metadata": {},
     "output_type": "execute_result"
    }
   ],
   "source": [
    "tree = DecisionTreeClassifier(max_depth=25)\n",
    "tree.fit(X_train, y_train)"
   ]
  },
  {
   "cell_type": "markdown",
   "id": "160357d1",
   "metadata": {},
   "source": [
    "Random Forest:"
   ]
  },
  {
   "cell_type": "code",
   "execution_count": 24,
   "id": "6dd2a100",
   "metadata": {},
   "outputs": [
    {
     "data": {
      "text/plain": [
       "RandomForestClassifier(max_depth=5, max_features=1, n_estimators=10)"
      ]
     },
     "execution_count": 24,
     "metadata": {},
     "output_type": "execute_result"
    }
   ],
   "source": [
    "forest = RandomForestClassifier(max_depth=5, n_estimators=10, max_features=1)\n",
    "forest.fit(X_train, y_train)"
   ]
  },
  {
   "cell_type": "markdown",
   "id": "7d730033",
   "metadata": {},
   "source": [
    "Ada Boost Classifier:"
   ]
  },
  {
   "cell_type": "code",
   "execution_count": 25,
   "id": "e11dde70",
   "metadata": {},
   "outputs": [
    {
     "data": {
      "text/plain": [
       "AdaBoostClassifier()"
      ]
     },
     "execution_count": 25,
     "metadata": {},
     "output_type": "execute_result"
    }
   ],
   "source": [
    "abc = AdaBoostClassifier()\n",
    "abc.fit(X_train, y_train)"
   ]
  },
  {
   "cell_type": "markdown",
   "id": "1bc1ad45",
   "metadata": {},
   "source": [
    "<a id=\"six\"></a>\n",
    "## 6. Model Performance\n",
    "<a class=\"anchor\" id=\"1.1\"></a>\n",
    "<a href=#cont>Back to Table of Contents</a>"
   ]
  },
  {
   "cell_type": "code",
   "execution_count": 26,
   "id": "6627d2c2",
   "metadata": {},
   "outputs": [],
   "source": [
    "def scores(lm, X_test, y_test):\n",
    "    # your code here\n",
    "    accuracy = accuracy_score(y_test, lm.predict(X_test) )\n",
    "    precision = precision_score(y_test, lm.predict(X_test), average = \"weighted\" )\n",
    "    recall = recall_score(y_test, lm.predict(X_test), average = \"weighted\" )\n",
    "    f = f1_score(y_test, lm.predict(X_test), average = \"weighted\" ) \n",
    "    return {\"Accuracy\": round(accuracy,5), \"Precision\":round(precision,5), \"Recall\": round(recall,5), \"f1\": round(f,5)}"
   ]
  },
  {
   "cell_type": "code",
   "execution_count": 27,
   "id": "6c233059",
   "metadata": {},
   "outputs": [
    {
     "name": "stdout",
     "output_type": "stream",
     "text": [
      "Logistic Regression :  {'Accuracy': 0.99485, 'Precision': 0.99487, 'Recall': 0.99485, 'f1': 0.99485}\n",
      "\n",
      "Linear Support Vector Classifier :  {'Accuracy': 0.99606, 'Precision': 0.99607, 'Recall': 0.99606, 'f1': 0.99606}\n",
      "\n",
      "K Nearest Neighbours :  {'Accuracy': 0.9747, 'Precision': 0.97506, 'Recall': 0.9747, 'f1': 0.97461}\n",
      "\n",
      "Multinomial Naive Bayes Classifier :  {'Accuracy': 0.99727, 'Precision': 0.99728, 'Recall': 0.99727, 'f1': 0.99727}\n",
      "\n",
      "Decision Tree :  {'Accuracy': 0.88818, 'Precision': 0.921, 'Recall': 0.88818, 'f1': 0.89391}\n",
      "\n",
      "Random Forest :  {'Accuracy': 0.10318, 'Precision': 0.69946, 'Recall': 0.10318, 'f1': 0.04468}\n",
      "\n",
      "AdaBoostClassifier :  {'Accuracy': 0.58, 'Precision': 0.62561, 'Recall': 0.58, 'f1': 0.52437}\n",
      "\n"
     ]
    }
   ],
   "source": [
    "models = [lm, svc, knn, mnbc, tree, forest, abc] #List of our models and below are their full names. \n",
    "\n",
    "model_names = [\"Logistic Regression\", \"Linear Support Vector Classifier\", \"K Nearest Neighbours\",\n",
    "                   \"Multinomial Naive Bayes Classifier\", \"Decision Tree\", \"Random Forest\", \"AdaBoostClassifier\" ] \n",
    "\n",
    "f1_scores = [] #We store the f1 scores so we can plot them later on for comparison. \n",
    "for i in range(len(models)):\n",
    "    all_scores = scores(models[i], X_test, y_test)\n",
    "    f1 = f1_scores.append(list(all_scores.items())[3][1])\n",
    "    print(model_names[i],\": \", all_scores)\n",
    "    print(\"\")"
   ]
  },
  {
   "cell_type": "code",
   "execution_count": 28,
   "id": "8a4e9642",
   "metadata": {},
   "outputs": [
    {
     "data": {
      "image/png": "[encoded data removed]",
      "text/plain": [
       "<Figure size 432x288 with 1 Axes>"
      ]
     },
     "metadata": {},
     "output_type": "display_data"
    }
   ],
   "source": [
    "ax = plt.subplot(111)\n",
    "ax.barh(model_names, f1_scores)\n",
    "ax.set_xlabel(\"f1 score\")\n",
    "for index, value in enumerate([round(value,5) for value in f1_scores]):\n",
    "    ax.text(value, index, str(value))"
   ]
  },
  {
   "cell_type": "markdown",
   "id": "8be57060",
   "metadata": {},
   "source": [
    "We see that our best performing model is the Multinomial Naive Bayes Classifier. We will now try to optimize these models by performing a Grid Search on both of them."
   ]
  },
  {
   "cell_type": "code",
   "execution_count": 29,
   "id": "b2a9a8e7",
   "metadata": {},
   "outputs": [],
   "source": [
    "param_grid = {'alpha': [0.1, 1, 5, 10]}\n",
    "best_mnbc = GridSearchCV(MultinomialNB(),param_grid=param_grid,cv=5,n_jobs=-1,scoring='f1_weighted')"
   ]
  },
  {
   "cell_type": "code",
   "execution_count": 30,
   "id": "ecf94ac6",
   "metadata": {},
   "outputs": [
    {
     "data": {
      "text/plain": [
       "GridSearchCV(cv=5, estimator=MultinomialNB(), n_jobs=-1,\n",
       "             param_grid={'alpha': [0.1, 1, 5, 10]}, scoring='f1_weighted')"
      ]
     },
     "execution_count": 30,
     "metadata": {},
     "output_type": "execute_result"
    }
   ],
   "source": [
    "best_mnbc.fit(X_train,y_train)"
   ]
  },
  {
   "cell_type": "code",
   "execution_count": 31,
   "id": "c87f5e9d",
   "metadata": {},
   "outputs": [
    {
     "data": {
      "text/plain": [
       "{'Accuracy': 0.99879, 'Precision': 0.99879, 'Recall': 0.99879, 'f1': 0.99879}"
      ]
     },
     "execution_count": 31,
     "metadata": {},
     "output_type": "execute_result"
    }
   ],
   "source": [
    "scores(best_mnbc, X_test, y_test)"
   ]
  },
  {
   "cell_type": "code",
   "execution_count": 32,
   "id": "357a4833",
   "metadata": {},
   "outputs": [
    {
     "data": {
      "text/plain": [
       "{'alpha': 1}"
      ]
     },
     "execution_count": 32,
     "metadata": {},
     "output_type": "execute_result"
    }
   ],
   "source": [
    "best_mnbc.best_params_"
   ]
  },
  {
   "cell_type": "markdown",
   "id": "ffea3bcf",
   "metadata": {},
   "source": [
    "Hence, our best performing model is a Multinomial Naive Bayes Theorem with an Alpha value of 1. "
   ]
  },
  {
   "cell_type": "markdown",
   "id": "2a41d756",
   "metadata": {},
   "source": [
    "<a id=\"seven\"></a>\n",
    "## 7. Model Explanations\n",
    "<a class=\"anchor\" id=\"1.1\"></a>\n",
    "<a href=#cont>Back to Table of Contents</a>"
   ]
  },
  {
   "cell_type": "markdown",
   "id": "d887002f",
   "metadata": {},
   "source": [
    "As mentioned above, our best performing model was a Multinomial Naive Bayes Theorem with an Alpha value of 1, but how exactly does this model work ? \n",
    "\n",
    "Naive Bayes is a classification algorithm that uses the principle of Bayes theorem (describes the probability of an event, based on prior knowledge of conditions that might be related to the event.) to make classifications.\n",
    "\n",
    "We use the Multinomial variant of the Naive Bayes Classifier as it performs well when used for discrete data such as language.\n",
    "Here we consider bernoulli trials which you can think of as the number of times outcome number x_i is observed over the n trials "
   ]
  },
  {
   "cell_type": "markdown",
   "id": "fdd10db8",
   "metadata": {},
   "source": [
    "<a id=\"eight\"></a>\n",
    "## 8. Predicting on Unseen Data\n",
    "<a class=\"anchor\" id=\"1.1\"></a>\n",
    "<a href=#cont>Back to Table of Contents</a>"
   ]
  },
  {
   "cell_type": "code",
   "execution_count": 33,
   "id": "f01b0901",
   "metadata": {},
   "outputs": [
    {
     "data": {
      "text/html": [
       "<div>\n",
       "<style scoped>\n",
       "    .dataframe tbody tr th:only-of-type {\n",
       "        vertical-align: middle;\n",
       "    }\n",
       "\n",
       "    .dataframe tbody tr th {\n",
       "        vertical-align: top;\n",
       "    }\n",
       "\n",
       "    .dataframe thead th {\n",
       "        text-align: right;\n",
       "    }\n",
       "</style>\n",
       "<table border=\"1\" class=\"dataframe\">\n",
       "  <thead>\n",
       "    <tr style=\"text-align: right;\">\n",
       "      <th></th>\n",
       "      <th>index</th>\n",
       "      <th>text</th>\n",
       "    </tr>\n",
       "  </thead>\n",
       "  <tbody>\n",
       "    <tr>\n",
       "      <th>0</th>\n",
       "      <td>1</td>\n",
       "      <td>Mmasepala, fa maemo a a kgethegileng a letlele...</td>\n",
       "    </tr>\n",
       "    <tr>\n",
       "      <th>1</th>\n",
       "      <td>2</td>\n",
       "      <td>Uzakwaziswa ngokufaneleko nakungafuneka eminye...</td>\n",
       "    </tr>\n",
       "    <tr>\n",
       "      <th>2</th>\n",
       "      <td>3</td>\n",
       "      <td>Tshivhumbeo tshi fana na ngano dza vhathu.</td>\n",
       "    </tr>\n",
       "    <tr>\n",
       "      <th>3</th>\n",
       "      <td>4</td>\n",
       "      <td>Kube inja nelikati betingevakala kutsi titsini...</td>\n",
       "    </tr>\n",
       "    <tr>\n",
       "      <th>4</th>\n",
       "      <td>5</td>\n",
       "      <td>Winste op buitelandse valuta.</td>\n",
       "    </tr>\n",
       "    <tr>\n",
       "      <th>5</th>\n",
       "      <td>6</td>\n",
       "      <td>Ke feela dilense tše hlakilego, tša pono e tee...</td>\n",
       "    </tr>\n",
       "    <tr>\n",
       "      <th>6</th>\n",
       "      <td>7</td>\n",
       "      <td>&lt;fn&gt;(762010101403 AM) 1495 Final Gems Birthing...</td>\n",
       "    </tr>\n",
       "    <tr>\n",
       "      <th>7</th>\n",
       "      <td>8</td>\n",
       "      <td>Ntjhafatso ya konteraka ya mosebetsi: Etsa bon...</td>\n",
       "    </tr>\n",
       "    <tr>\n",
       "      <th>8</th>\n",
       "      <td>9</td>\n",
       "      <td>u-GEMS uhlinzeka ngezinzuzo zemithi yezifo ezi...</td>\n",
       "    </tr>\n",
       "    <tr>\n",
       "      <th>9</th>\n",
       "      <td>10</td>\n",
       "      <td>So, on occasion, are statistics misused.</td>\n",
       "    </tr>\n",
       "  </tbody>\n",
       "</table>\n",
       "</div>"
      ],
      "text/plain": [
       "   index                                               text\n",
       "0      1  Mmasepala, fa maemo a a kgethegileng a letlele...\n",
       "1      2  Uzakwaziswa ngokufaneleko nakungafuneka eminye...\n",
       "2      3         Tshivhumbeo tshi fana na ngano dza vhathu.\n",
       "3      4  Kube inja nelikati betingevakala kutsi titsini...\n",
       "4      5                      Winste op buitelandse valuta.\n",
       "5      6  Ke feela dilense tše hlakilego, tša pono e tee...\n",
       "6      7  <fn>(762010101403 AM) 1495 Final Gems Birthing...\n",
       "7      8  Ntjhafatso ya konteraka ya mosebetsi: Etsa bon...\n",
       "8      9  u-GEMS uhlinzeka ngezinzuzo zemithi yezifo ezi...\n",
       "9     10           So, on occasion, are statistics misused."
      ]
     },
     "execution_count": 33,
     "metadata": {},
     "output_type": "execute_result"
    }
   ],
   "source": [
    "test = pd.read_csv(\"test_set.csv\")\n",
    "test.head(10)"
   ]
  },
  {
   "cell_type": "code",
   "execution_count": 34,
   "id": "8dcb8828",
   "metadata": {},
   "outputs": [],
   "source": [
    "def cleaning(data, model):\n",
    "    \n",
    "    df = data.copy()\n",
    "    df['text'] = df['text'].str.lower()\n",
    "    df[\"text\"] = df[\"text\"].apply(remover)\n",
    "    \n",
    "    x = df[\"text\"]\n",
    "    xtr = tv.transform(x)\n",
    "    y_pred = {\"lang_id\":model.predict(xtr)}\n",
    "    \n",
    "    sub = pd.DataFrame(y_pred)\n",
    "    \n",
    "    sub.index = np.arange(1, len(sub)+1)\n",
    "    sub.index.name = 'index'\n",
    "    \n",
    "    return sub"
   ]
  },
  {
   "cell_type": "code",
   "execution_count": 35,
   "id": "e929a842",
   "metadata": {},
   "outputs": [],
   "source": [
    "cleaning(test,best_mnbc).to_csv(\"Final_Submission.csv\")"
   ]
  }
 ],
 "metadata": {
  "kernelspec": {
   "display_name": "Python 3 (ipykernel)",
   "language": "python",
   "name": "python3"
  },
  "language_info": {
   "codemirror_mode": {
    "name": "ipython",
    "version": 3
   },
   "file_extension": ".py",
   "mimetype": "text/x-python",
   "name": "python",
   "nbconvert_exporter": "python",
   "pygments_lexer": "ipython3",
   "version": "3.9.7"
  }
 },
 "nbformat": 4,
 "nbformat_minor": 5
}
